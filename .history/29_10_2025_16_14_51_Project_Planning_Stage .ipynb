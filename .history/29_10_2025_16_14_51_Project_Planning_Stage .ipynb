{
 "cells": [
  {
   "cell_type": "markdown",
   "id": "e31cbc71-1a96-4827-bb37-a3a413866976",
   "metadata": {},
   "source": [
    "##Introduction:"
   ]
  },
  {
   "cell_type": "markdown",
   "id": "038bdf4e-c3dd-44d9-a882-e423a1b8119a",
   "metadata": {},
   "source": [
    "\n",
    "\n",
    "To help the Wood lab with their Minecraft server, my project plan will address the board question: \n",
    "\"What player characteristics and behaviours are most predictive of subscribing to a game-related newsletter, and how do these features differ between various player types?\" \n",
    "\n",
    "The specific question: Can experience level predict   \n"
   ]
  },
  {
   "cell_type": "markdown",
   "id": "94d22980-2220-4779-9119-e06557bc1599",
   "metadata": {},
   "source": [
    "Preprocessing Method: \n",
    "1. Load all necessary libraries and players.csv and sessions.csv"
   ]
  },
  {
   "cell_type": "code",
   "execution_count": null,
   "id": "c4bfe8e5-686e-40f1-88df-908920db875c",
   "metadata": {},
   "outputs": [],
   "source": [
    "\n",
    "library(tidyverse)\n",
    "library(tidymodels)"
   ]
  },
  {
   "cell_type": "code",
   "execution_count": null,
   "id": "a2cc46da-55c3-4ee3-ad72-31fad3ddb295",
   "metadata": {},
   "outputs": [],
   "source": [
    "#\n",
    "players_url <- \"https://raw.githubusercontent.com/604Beast/Project-Planning-Stage/refs/heads/main/players.csv\"\n",
    "players_data <- read_csv(players_url)\n",
    "players_data\n",
    "\n"
   ]
  },
  {
   "cell_type": "code",
   "execution_count": null,
   "id": "e76852ab-7903-49a4-8a71-c390cc43a0df",
   "metadata": {},
   "outputs": [],
   "source": [
    "sessions_url <- \"https://raw.githubusercontent.com/604Beast/Project-Planning-Stage/refs/heads/main/sessions.csv\"\n",
    "sessions_data <- read_csv(sessions_url)\n",
    "sessions_data "
   ]
  },
  {
   "cell_type": "code",
   "execution_count": null,
   "id": "860bbbf6-fce9-421b-a5a6-829a80929789",
   "metadata": {},
   "outputs": [],
   "source": []
  }
 ],
 "metadata": {
  "kernelspec": {
   "display_name": "R",
   "language": "R",
   "name": "ir"
  },
  "language_info": {
   "codemirror_mode": "r",
   "file_extension": ".r",
   "mimetype": "text/x-r-source",
   "name": "R",
   "pygments_lexer": "r",
   "version": "4.3.3"
  }
 },
 "nbformat": 4,
 "nbformat_minor": 5
}
